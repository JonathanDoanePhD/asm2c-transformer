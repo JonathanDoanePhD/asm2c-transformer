{
 "cells": [
  {
   "cell_type": "markdown",
   "id": "28b61475",
   "metadata": {},
   "source": [
    "# Test the Assembly-to-C Model\n",
    "This notebook helps you load your trained model, run inference on test assembly code, and evaluate the output."
   ]
  },
  {
   "cell_type": "code",
   "execution_count": 6,
   "id": "49d6a28a",
   "metadata": {},
   "outputs": [],
   "source": [
    "# Load dependencies\n",
    "from transformers import AutoTokenizer, AutoModelForSeq2SeqLM\n",
    "import torch"
   ]
  },
  {
   "cell_type": "code",
   "execution_count": 7,
   "id": "0337ddee",
   "metadata": {},
   "outputs": [],
   "source": [
    "# Load the pretrained model and tokenizer\n",
    "model_name = 'saved_model'\n",
    "tokenizer = AutoTokenizer.from_pretrained(model_name)\n",
    "model = AutoModelForSeq2SeqLM.from_pretrained(model_name)"
   ]
  },
  {
   "cell_type": "code",
   "execution_count": 8,
   "id": "1cedbf73",
   "metadata": {},
   "outputs": [],
   "source": [
    "# Example input: some sample assembly code\n",
    "assembly_code = '''\n",
    "mov eax, [ebp+8]\n",
    "add eax, [ebp+12]\n",
    "ret\n",
    "'''"
   ]
  },
  {
   "cell_type": "code",
   "execution_count": null,
   "id": "188885f0",
   "metadata": {},
   "outputs": [
    {
     "name": "stdout",
     "output_type": "stream",
     "text": [
      "\n",
      " Decompiled C Code:\n",
      "\n",
      "mov eax, [ebp+8] add eax, [ebp+12] rett mov eax, [ebp+8] add eax, [ebp+12] rett mov eax, [ebp+8] add eax, [ebp+12] rett mov eax, [ebp+12] rett mov\n"
     ]
    }
   ],
   "source": [
    "# Tokenize and run the model\n",
    "inputs = tokenizer(assembly_code, return_tensors='pt', padding=True, truncation=True)\n",
    "with torch.no_grad():\n",
    "    outputs = model.generate(**inputs, max_length=128)\n",
    "generated_c = tokenizer.decode(outputs[0], skip_special_tokens=True)\n",
    "print(\"Decompiled C Code:\")\n",
    "print(generated_c)"
   ]
  },
  {
   "cell_type": "code",
   "execution_count": 10,
   "id": "c933b273",
   "metadata": {},
   "outputs": [],
   "source": [
    "# You can test with your own examples by changing the `assembly_code` string above!"
   ]
  }
 ],
 "metadata": {
  "kernelspec": {
   "display_name": "Python 3",
   "language": "python",
   "name": "python3"
  },
  "language_info": {
   "codemirror_mode": {
    "name": "ipython",
    "version": 3
   },
   "file_extension": ".py",
   "mimetype": "text/x-python",
   "name": "python",
   "nbconvert_exporter": "python",
   "pygments_lexer": "ipython3",
   "version": "3.10.1"
  }
 },
 "nbformat": 4,
 "nbformat_minor": 5
}
